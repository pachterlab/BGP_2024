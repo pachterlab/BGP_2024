{
 "cells": [
  {
   "cell_type": "code",
   "execution_count": 1,
   "id": "715895c4-196f-4540-9256-97a13a377190",
   "metadata": {
    "tags": []
   },
   "outputs": [
    {
     "name": "stderr",
     "output_type": "stream",
     "text": [
      "/home/agalvezm/.local/lib/python3.6/site-packages/numba/core/errors.py:154: UserWarning: Insufficiently recent colorama version found. Numba requires colorama >= 0.3.9\n",
      "  warnings.warn(msg)\n"
     ]
    }
   ],
   "source": [
    "import anndata\n",
    "import matplotlib\n",
    "import matplotlib.pyplot as plt\n",
    "import numpy as np\n",
    "import pandas as pd\n",
    "from kb_python.utils import import_matrix_as_anndata\n",
    "import anndata \n",
    "from scipy.io import mmread\n",
    "from mpl_toolkits.axes_grid1 import make_axes_locatable\n",
    "\n",
    "fsize = 15\n",
    "import sys\n",
    "\n",
    "def nd(arr):\n",
    "    return np.asarray(arr).reshape(-1)\n",
    "\n",
    "\n",
    "def yex(ax):\n",
    "    lims = [\n",
    "        np.min([ax.get_xlim(), ax.get_ylim()]),  # min of both axes\n",
    "        np.max([ax.get_xlim(), ax.get_ylim()]),  # max of both axes\n",
    "    ]\n",
    "\n",
    "    # now plot both limits against eachother\n",
    "    ax.plot(lims, lims, c=\"k\", alpha=0.75, zorder=0)\n",
    "    ax.set(**{\"aspect\": \"equal\", \"xlim\": lims, \"ylim\": lims})\n",
    "    return ax\n",
    "\n",
    "\n",
    "plt.rcParams.update({\"font.size\": fsize})\n",
    "%config InlineBackend.figure_format = 'retina'"
   ]
  },
  {
   "cell_type": "code",
   "execution_count": 2,
   "id": "71d0797a-8a95-4a48-a218-2aaead4c24f6",
   "metadata": {
    "tags": []
   },
   "outputs": [],
   "source": [
    "from sklearn.mixture import GaussianMixture\n",
    "from scipy.stats import entropy\n",
    "def gmm(x, v, comps):\n",
    "    n_comps = comps.pop(0)\n",
    "\n",
    "    gm = GaussianMixture(n_components=n_comps, random_state=42)\n",
    "    labels = gm.fit_predict(v)\n",
    "    prob = gm.predict_proba(v)\n",
    "    print(gm.means_, gm.covariances_, sep=\"\\n\")\n",
    "    ent = entropy(prob, axis=1)\n",
    "\n",
    "    # index of v where low count cell is\n",
    "    cutoff = 0\n",
    "    if n_comps == 2:\n",
    "        ind = np.argmax(ent)\n",
    "        # log1p_cutoff = v[ind][0]\n",
    "        cutoff = x[ind]\n",
    "    elif n_comps > 2:\n",
    "        # sort means, and pick the range of the top two\n",
    "        means = np.sort((np.exp(gm.means_) - 1).flatten())\n",
    "        r = np.logical_and(x > means[-2], x < means[-1])  # make ranage\n",
    "        df = pd.DataFrame({\"ent\": ent, \"idx\": np.arange(ent.shape[0]).astype(int)})[r]\n",
    "        # get the index (of x) where the entropy is the max (in range r)\n",
    "        amax = df[\"ent\"].argmax()\n",
    "        idx = df.iloc[amax][\"idx\"].astype(int)\n",
    "        cutoff = x[idx]\n",
    "\n",
    "    # n_iter -= 1\n",
    "    n_iter = len(comps)\n",
    "    if n_iter <= 0:\n",
    "        return (cutoff, (x > cutoff).sum(), ent)\n",
    "    return gmm(x[x > cutoff], v[x > cutoff], comps)  # , n_comps, n_iter)\n",
    "\n"
   ]
  },
  {
   "cell_type": "code",
   "execution_count": 3,
   "id": "234bfe12-e66a-4167-ba21-d412fe784784",
   "metadata": {
    "tags": []
   },
   "outputs": [
    {
     "ename": "ModuleNotFoundError",
     "evalue": "No module named 'mx'",
     "output_type": "error",
     "traceback": [
      "\u001b[0;31m---------------------------------------------------------------------------\u001b[0m",
      "\u001b[0;31mModuleNotFoundError\u001b[0m                       Traceback (most recent call last)",
      "\u001b[0;32m<ipython-input-3-495aa4d5464b>\u001b[0m in \u001b[0;36m<module>\u001b[0;34m\u001b[0m\n\u001b[0;32m----> 1\u001b[0;31m \u001b[0;32mfrom\u001b[0m \u001b[0mmx\u001b[0m\u001b[0;34m.\u001b[0m\u001b[0mmx_filter\u001b[0m \u001b[0;32mimport\u001b[0m \u001b[0mmx_filter\u001b[0m\u001b[0;34m,\u001b[0m \u001b[0mknee\u001b[0m\u001b[0;34m\u001b[0m\u001b[0;34m\u001b[0m\u001b[0m\n\u001b[0m",
      "\u001b[0;31mModuleNotFoundError\u001b[0m: No module named 'mx'"
     ]
    }
   ],
   "source": [
    "from mx.mx_filter import mx_filter, knee"
   ]
  },
  {
   "cell_type": "code",
   "execution_count": null,
   "id": "46bd7835-995a-4e4e-a52a-3ff2c950a4c7",
   "metadata": {
    "tags": []
   },
   "outputs": [],
   "source": [
    "mtx = mmread(\"/home/cellatlas/human/data/colon/GSM3587010/mito_filter/matrix.mtx\").tocsr()"
   ]
  },
  {
   "cell_type": "code",
   "execution_count": null,
   "id": "1d065b39-e836-4a97-88aa-7935f049984b",
   "metadata": {
    "tags": []
   },
   "outputs": [],
   "source": [
    "mtx = mtx[nd(mtx.sum(1)>0)].copy()"
   ]
  },
  {
   "cell_type": "code",
   "execution_count": null,
   "id": "0c2e1e87-3fbb-4a1c-844d-b473231753ec",
   "metadata": {
    "tags": []
   },
   "outputs": [],
   "source": [
    "u, x, v = knee(mtx, 1)\n",
    "\n",
    "(cutoff, ncells, ent) = gmm(x, v, comps=[2])"
   ]
  },
  {
   "cell_type": "code",
   "execution_count": null,
   "id": "5d82a167-4d8b-4e17-85ae-a8f2894abf2d",
   "metadata": {
    "tags": []
   },
   "outputs": [],
   "source": [
    "cutoff"
   ]
  },
  {
   "cell_type": "code",
   "execution_count": null,
   "id": "3bf4bb8f-555d-4816-9d50-4d2dc16ca96a",
   "metadata": {
    "tags": []
   },
   "outputs": [],
   "source": [
    "x[np.argmax(ent)]"
   ]
  },
  {
   "cell_type": "code",
   "execution_count": null,
   "id": "9cb59625-3db7-48ed-aa89-f4fe0ebed06e",
   "metadata": {
    "tags": []
   },
   "outputs": [],
   "source": [
    "means = [9.40710059, 4.89899629]\n",
    "variances = [0.82530123, 0.25033376]"
   ]
  },
  {
   "cell_type": "code",
   "execution_count": null,
   "id": "fd40e6fc-fb60-4e32-a909-ac4e2c40106c",
   "metadata": {
    "tags": []
   },
   "outputs": [],
   "source": [
    "mtx.shape"
   ]
  },
  {
   "cell_type": "code",
   "execution_count": null,
   "id": "104fa7d5-5526-495b-a77f-5c91a14ce5fd",
   "metadata": {
    "tags": []
   },
   "outputs": [],
   "source": [
    "# (mtxf, bcsf) = mx_filter(mtx, np.arange(mtx.shape[0]),sum_axis=1, comps=[2], select_axis=None)"
   ]
  },
  {
   "cell_type": "code",
   "execution_count": null,
   "id": "1d7bedcb-da83-4355-bee1-cb015358aabc",
   "metadata": {
    "tags": []
   },
   "outputs": [],
   "source": [
    "s = nd(mtx.sum(1))"
   ]
  },
  {
   "cell_type": "code",
   "execution_count": null,
   "id": "e4984e1a-8c72-4a74-996b-882ad8212bb6",
   "metadata": {
    "tags": []
   },
   "outputs": [],
   "source": [
    "fig, axs = plt.subplots(figsize=(15,5), ncols=3, constrained_layout=True)\n",
    "\n",
    "ax = axs[0]\n",
    "x = np.log(s)\n",
    "ax.hist(x, color=\"#7394B3\", edgecolor=\"k\")\n",
    "ax.axvline(x=np.log(cutoff), color=\"grey\", linestyle=\"--\")\n",
    "\n",
    "ax.set(**{\n",
    "    \"xlabel\": \"log(UMI counts)\",\n",
    "    \"ylabel\": \"Frequency\"\n",
    "})\n",
    "\n",
    "ax = axs[1]\n",
    "x = np.linspace(np.log(s.min()), np.log(s.max()), 1000)\n",
    "\n",
    "for mu, sigma, color in zip(means, np.sqrt(variances), [\"#7394B3\", \"#941655\"]):\n",
    "    y = (1 / (sigma * np.sqrt(2 * np.pi))) * np.exp(-(x - mu)**2 / (2 * sigma**2))\n",
    "    ax.plot(x,y, linewidth=5, color=color)\n",
    "# ax.axvline(x=np.log(cutoff), color=\"grey\", linestyle=\"--\")\n",
    "# ax.scatter(np.log(s), ent)\n",
    "ax.set(**{\n",
    "    \"xlabel\": \"log(UMI counts)\",\n",
    "    \"ylabel\": \"Frequency\"\n",
    "})\n",
    "\n",
    "ax = axs[2]\n",
    "x = np.sort(s)[::-1]\n",
    "y = np.arange(x.shape[0])\n",
    "im = ax.scatter(x,y, c=ent, cmap=\"Blues_r\")\n",
    "ax.axvline(x=cutoff, color=\"grey\", linestyle=\"--\")\n",
    "ax.axhline(y[x < cutoff][0], color=\"grey\", linestyle=\"--\")\n",
    "ax.set(**{\n",
    "    \"xscale\": \"log\",\n",
    "    \"yscale\": \"log\",\n",
    "    \"xlabel\": \"UMI counts\",\n",
    "    \"ylabel\": \"Frequency\"\n",
    "})\n",
    "divider = make_axes_locatable(ax)\n",
    "cax = divider.append_axes(\"right\", size=\"5%\", pad=0.05)\n",
    "   \n",
    "plt.colorbar(im, cax=cax, label=\"Entropy\")\n",
    "\n",
    "fig.savefig(\"figures/mx_filter.png\", dpi=300, bbox_inches=\"tight\")\n",
    "fig.show()"
   ]
  },
  {
   "cell_type": "code",
   "execution_count": null,
   "id": "48ea33c9-ff1c-40f3-a4a9-039af7a5085e",
   "metadata": {},
   "outputs": [],
   "source": []
  }
 ],
 "metadata": {
  "kernelspec": {
   "display_name": "Python 3",
   "language": "python",
   "name": "python3"
  },
  "language_info": {
   "codemirror_mode": {
    "name": "ipython",
    "version": 3
   },
   "file_extension": ".py",
   "mimetype": "text/x-python",
   "name": "python",
   "nbconvert_exporter": "python",
   "pygments_lexer": "ipython3",
   "version": "3.6.9"
  }
 },
 "nbformat": 4,
 "nbformat_minor": 5
}
